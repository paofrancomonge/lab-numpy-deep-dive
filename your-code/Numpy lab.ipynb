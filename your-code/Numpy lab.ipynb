{
 "cells": [
  {
   "cell_type": "code",
   "execution_count": 1,
   "metadata": {},
   "outputs": [],
   "source": [
    "#1. Import the NUMPY package under the name np.\n",
    "\n",
    "import numpy as np"
   ]
  },
  {
   "cell_type": "code",
   "execution_count": 5,
   "metadata": {},
   "outputs": [
    {
     "data": {
      "text/plain": [
       "'1.19.2'"
      ]
     },
     "execution_count": 5,
     "metadata": {},
     "output_type": "execute_result"
    }
   ],
   "source": [
    "#2. Print the NUMPY version and the configuration.\n",
    "\n",
    "np.version.version"
   ]
  },
  {
   "cell_type": "code",
   "execution_count": 7,
   "metadata": {},
   "outputs": [
    {
     "name": "stdout",
     "output_type": "stream",
     "text": [
      "[[[0.37609943 0.96878027 0.29775063 0.34897953 0.61326417]\n",
      "  [0.09199085 0.22065954 0.53809644 0.58336229 0.72937805]\n",
      "  [0.92259582 0.5817039  0.7522664  0.01140468 0.16441539]]\n",
      "\n",
      " [[0.76872303 0.80867456 0.11440317 0.9091943  0.8754836 ]\n",
      "  [0.1773504  0.45004143 0.57692896 0.0200504  0.34315757]\n",
      "  [0.97015651 0.2784897  0.5012218  0.84090722 0.77571108]]]\n"
     ]
    }
   ],
   "source": [
    "#3. Generate a 2x3x5 3-dimensional array with random values. Assign the array to variable \"a\"\n",
    "# Challenge: there are at least three easy ways that use numpy to generate random arrays. How many ways can you find?\n",
    "\n",
    "a = np.random.random((2,3,5)\n",
    "print(a)"
   ]
  },
  {
   "cell_type": "code",
   "execution_count": 8,
   "metadata": {},
   "outputs": [
    {
     "name": "stdout",
     "output_type": "stream",
     "text": [
      "[[[0.37609943 0.96878027 0.29775063 0.34897953 0.61326417]\n",
      "  [0.09199085 0.22065954 0.53809644 0.58336229 0.72937805]\n",
      "  [0.92259582 0.5817039  0.7522664  0.01140468 0.16441539]]\n",
      "\n",
      " [[0.76872303 0.80867456 0.11440317 0.9091943  0.8754836 ]\n",
      "  [0.1773504  0.45004143 0.57692896 0.0200504  0.34315757]\n",
      "  [0.97015651 0.2784897  0.5012218  0.84090722 0.77571108]]]\n"
     ]
    }
   ],
   "source": [
    "#4. Print a.\n",
    "\n",
    "print(a)"
   ]
  },
  {
   "cell_type": "code",
   "execution_count": 13,
   "metadata": {},
   "outputs": [
    {
     "name": "stdout",
     "output_type": "stream",
     "text": [
      "[[[1. 1. 1. 1. 1.]\n",
      "  [1. 1. 1. 1. 1.]\n",
      "  [1. 1. 1. 1. 1.]]\n",
      "\n",
      " [[1. 1. 1. 1. 1.]\n",
      "  [1. 1. 1. 1. 1.]\n",
      "  [1. 1. 1. 1. 1.]]]\n"
     ]
    }
   ],
   "source": [
    "a = np.ones((2,3,5))\n",
    "print(a)"
   ]
  },
  {
   "cell_type": "code",
   "execution_count": 15,
   "metadata": {},
   "outputs": [
    {
     "name": "stdout",
     "output_type": "stream",
     "text": [
      "[[[1. 1. 1. 1. 1.]\n",
      "  [1. 1. 1. 1. 1.]\n",
      "  [1. 1. 1. 1. 1.]]\n",
      "\n",
      " [[1. 1. 1. 1. 1.]\n",
      "  [1. 1. 1. 1. 1.]\n",
      "  [1. 1. 1. 1. 1.]]]\n"
     ]
    }
   ],
   "source": [
    "a2 = np.empty([2,3,5])\n",
    "print(a2)"
   ]
  },
  {
   "cell_type": "code",
   "execution_count": 17,
   "metadata": {},
   "outputs": [
    {
     "name": "stdout",
     "output_type": "stream",
     "text": [
      "[[[0.43256561 0.7614948  0.90054396 0.12752129 0.38731615]\n",
      "  [0.96219462 0.94025    0.620813   0.56479507 0.28346768]\n",
      "  [0.80463252 0.17537228 0.71522978 0.68761426 0.16374073]]\n",
      "\n",
      " [[0.62320741 0.33617508 0.26582555 0.29041757 0.95697929]\n",
      "  [0.73966396 0.58633206 0.52135013 0.28997544 0.91794695]\n",
      "  [0.92472905 0.6495576  0.61216816 0.35445409 0.95752805]]]\n"
     ]
    }
   ],
   "source": [
    "final_a = np.random.random((2,3,5))\n",
    "print(final_a)"
   ]
  },
  {
   "cell_type": "code",
   "execution_count": 27,
   "metadata": {},
   "outputs": [],
   "source": [
    "#5. Create a 5x2x3 3-dimensional array with all values equaling 1.\n",
    "#Assign the array to variable \"b\"\n",
    "\n",
    "b = np.ones((5,3,2))"
   ]
  },
  {
   "cell_type": "code",
   "execution_count": 28,
   "metadata": {},
   "outputs": [
    {
     "name": "stdout",
     "output_type": "stream",
     "text": [
      "[[[1. 1.]\n",
      "  [1. 1.]\n",
      "  [1. 1.]]\n",
      "\n",
      " [[1. 1.]\n",
      "  [1. 1.]\n",
      "  [1. 1.]]\n",
      "\n",
      " [[1. 1.]\n",
      "  [1. 1.]\n",
      "  [1. 1.]]\n",
      "\n",
      " [[1. 1.]\n",
      "  [1. 1.]\n",
      "  [1. 1.]]\n",
      "\n",
      " [[1. 1.]\n",
      "  [1. 1.]\n",
      "  [1. 1.]]]\n"
     ]
    }
   ],
   "source": [
    "#6. Print b.\n",
    "\n",
    "print(b)"
   ]
  },
  {
   "cell_type": "code",
   "execution_count": 21,
   "metadata": {},
   "outputs": [
    {
     "name": "stdout",
     "output_type": "stream",
     "text": [
      "30\n",
      "30\n"
     ]
    }
   ],
   "source": [
    "#7. Do a and b have the same size? How do you prove that in Python code?\n",
    "\n",
    "print(final_a.size)\n",
    "print(b.size)\n",
    "#Both have the same number of elements \n"
   ]
  },
  {
   "cell_type": "code",
   "execution_count": 22,
   "metadata": {},
   "outputs": [
    {
     "ename": "ValueError",
     "evalue": "operands could not be broadcast together with shapes (2,3,5) (5,2,3) ",
     "output_type": "error",
     "traceback": [
      "\u001b[0;31m---------------------------------------------------------------------------\u001b[0m",
      "\u001b[0;31mValueError\u001b[0m                                Traceback (most recent call last)",
      "\u001b[0;32m<ipython-input-22-383d2f3c6cca>\u001b[0m in \u001b[0;36m<module>\u001b[0;34m\u001b[0m\n\u001b[1;32m      1\u001b[0m \u001b[0;31m#8. Are you able to add a and b? Why or why not?\u001b[0m\u001b[0;34m\u001b[0m\u001b[0;34m\u001b[0m\u001b[0;34m\u001b[0m\u001b[0m\n\u001b[1;32m      2\u001b[0m \u001b[0;34m\u001b[0m\u001b[0m\n\u001b[0;32m----> 3\u001b[0;31m \u001b[0mprint\u001b[0m\u001b[0;34m(\u001b[0m\u001b[0mfinal_a\u001b[0m\u001b[0;34m+\u001b[0m\u001b[0mb\u001b[0m\u001b[0;34m)\u001b[0m\u001b[0;34m\u001b[0m\u001b[0;34m\u001b[0m\u001b[0m\n\u001b[0m",
      "\u001b[0;31mValueError\u001b[0m: operands could not be broadcast together with shapes (2,3,5) (5,2,3) "
     ]
    }
   ],
   "source": [
    "#8. Are you able to add a and b? Why or why not?\n",
    "\n",
    "print(final_a+b)\n",
    "#Even if the 2 variables have the same # ef elements it is not possible given the shape\n",
    "#In order to perform the sum, it is necessary to transpose one of them to make them equal shapes"
   ]
  },
  {
   "cell_type": "code",
   "execution_count": 29,
   "metadata": {},
   "outputs": [
    {
     "name": "stdout",
     "output_type": "stream",
     "text": [
      "[[[1. 1. 1. 1. 1.]\n",
      "  [1. 1. 1. 1. 1.]\n",
      "  [1. 1. 1. 1. 1.]]\n",
      "\n",
      " [[1. 1. 1. 1. 1.]\n",
      "  [1. 1. 1. 1. 1.]\n",
      "  [1. 1. 1. 1. 1.]]]\n"
     ]
    }
   ],
   "source": [
    "#9. Transpose b so that it has the same structure of a (i.e. become a 2x3x5 array). Assign the transposed array to varialbe \"c\".\n",
    "\n",
    "c = b.transpose()\n",
    "print(c)"
   ]
  },
  {
   "cell_type": "code",
   "execution_count": 30,
   "metadata": {},
   "outputs": [
    {
     "name": "stdout",
     "output_type": "stream",
     "text": [
      "[[[1.43256561 1.7614948  1.90054396 1.12752129 1.38731615]\n",
      "  [1.96219462 1.94025    1.620813   1.56479507 1.28346768]\n",
      "  [1.80463252 1.17537228 1.71522978 1.68761426 1.16374073]]\n",
      "\n",
      " [[1.62320741 1.33617508 1.26582555 1.29041757 1.95697929]\n",
      "  [1.73966396 1.58633206 1.52135013 1.28997544 1.91794695]\n",
      "  [1.92472905 1.6495576  1.61216816 1.35445409 1.95752805]]]\n"
     ]
    }
   ],
   "source": [
    "#10. Try to add a and c. Now it should work. Assign the sum to varialbe \"d\". But why does it work now?\n",
    "\n",
    "d = (final_a+c)\n",
    "print(d)\n",
    "#it is posible now given that both share the same shape"
   ]
  },
  {
   "cell_type": "code",
   "execution_count": 31,
   "metadata": {},
   "outputs": [
    {
     "name": "stdout",
     "output_type": "stream",
     "text": [
      "[[[0.43256561 0.7614948  0.90054396 0.12752129 0.38731615]\n",
      "  [0.96219462 0.94025    0.620813   0.56479507 0.28346768]\n",
      "  [0.80463252 0.17537228 0.71522978 0.68761426 0.16374073]]\n",
      "\n",
      " [[0.62320741 0.33617508 0.26582555 0.29041757 0.95697929]\n",
      "  [0.73966396 0.58633206 0.52135013 0.28997544 0.91794695]\n",
      "  [0.92472905 0.6495576  0.61216816 0.35445409 0.95752805]]]\n",
      "[[[1.43256561 1.7614948  1.90054396 1.12752129 1.38731615]\n",
      "  [1.96219462 1.94025    1.620813   1.56479507 1.28346768]\n",
      "  [1.80463252 1.17537228 1.71522978 1.68761426 1.16374073]]\n",
      "\n",
      " [[1.62320741 1.33617508 1.26582555 1.29041757 1.95697929]\n",
      "  [1.73966396 1.58633206 1.52135013 1.28997544 1.91794695]\n",
      "  [1.92472905 1.6495576  1.61216816 1.35445409 1.95752805]]]\n"
     ]
    }
   ],
   "source": [
    "#11. Print a and d. Notice the difference and relation of the two array in terms of the values? Explain.\n",
    "\n",
    "print(final_a)\n",
    "print(d)\n",
    "\n",
    "#Same number of values, different organization of the elements"
   ]
  },
  {
   "cell_type": "code",
   "execution_count": 32,
   "metadata": {},
   "outputs": [
    {
     "name": "stdout",
     "output_type": "stream",
     "text": [
      "[[[0.43256561 0.7614948  0.90054396 0.12752129 0.38731615]\n",
      "  [0.96219462 0.94025    0.620813   0.56479507 0.28346768]\n",
      "  [0.80463252 0.17537228 0.71522978 0.68761426 0.16374073]]\n",
      "\n",
      " [[0.62320741 0.33617508 0.26582555 0.29041757 0.95697929]\n",
      "  [0.73966396 0.58633206 0.52135013 0.28997544 0.91794695]\n",
      "  [0.92472905 0.6495576  0.61216816 0.35445409 0.95752805]]]\n"
     ]
    }
   ],
   "source": [
    "#12. Multiply a and c. Assign the result to e.\n",
    "\n",
    "e = (final_a*c)\n",
    "print(e)"
   ]
  },
  {
   "cell_type": "code",
   "execution_count": null,
   "metadata": {},
   "outputs": [],
   "source": [
    "#13. Does e equal to a? Why or why not?\n",
    "#It is equal to a because all values in b are \"ones\""
   ]
  },
  {
   "cell_type": "code",
   "execution_count": 33,
   "metadata": {},
   "outputs": [
    {
     "name": "stdout",
     "output_type": "stream",
     "text": [
      "1.9621946178551397\n",
      "1.1275212880099903\n",
      "1.5851287368689826\n"
     ]
    }
   ],
   "source": [
    "#14. Identify the max, min, and mean values in d. Assign those values to variables \"d_max\", \"d_min\", and \"d_mean\"\n",
    "\n",
    "d_max = np.max(d)\n",
    "d_min = np.min(d)\n",
    "d_mean = np.mean(d)\n",
    "\n",
    "print(d_max)\n",
    "print(d_min)\n",
    "print(d_mean)"
   ]
  },
  {
   "cell_type": "code",
   "execution_count": 34,
   "metadata": {},
   "outputs": [
    {
     "name": "stdout",
     "output_type": "stream",
     "text": [
      "[[[0.43256561 0.7614948  0.90054396 0.12752129 0.38731615]\n",
      "  [0.96219462 0.94025    0.620813   0.56479507 0.28346768]\n",
      "  [0.80463252 0.17537228 0.71522978 0.68761426 0.16374073]]\n",
      "\n",
      " [[0.62320741 0.33617508 0.26582555 0.29041757 0.95697929]\n",
      "  [0.73966396 0.58633206 0.52135013 0.28997544 0.91794695]\n",
      "  [0.92472905 0.6495576  0.61216816 0.35445409 0.95752805]]]\n"
     ]
    }
   ],
   "source": [
    "#15. Now we want to label the values in d. First create an empty array \"f\" with the same shape (i.e. 2x3x5) as d using `np.empty`.\n",
    "\n",
    "f = np.empty([2,3,5])\n",
    "print(f)"
   ]
  },
  {
   "cell_type": "code",
   "execution_count": 37,
   "metadata": {},
   "outputs": [
    {
     "name": "stdout",
     "output_type": "stream",
     "text": [
      "[[[ 25  75  75   0  25]\n",
      "  [100  75  75  25  25]\n",
      "  [ 75  25  75  75  25]]\n",
      "\n",
      " [[ 75  25  25  25  75]\n",
      "  [ 75  75  25  25  75]\n",
      "  [ 75  75  75  25  75]]]\n"
     ]
    }
   ],
   "source": [
    "\n",
    "\"\"\"\n",
    "#16. Populate the values in f. For each value in d, if it's larger than d_min but smaller than d_mean, assign 25 to the corresponding value in f.\n",
    "If a value in d is larger than d_mean but smaller than d_max, assign 75 to the corresponding value in f.\n",
    "If a value equals to d_mean, assign 50 to the corresponding value in f.\n",
    "Assign 0 to the corresponding value(s) in f for d_min in d.\n",
    "Assign 100 to the corresponding value(s) in f for d_max in d.\n",
    "In the end, f should have only the following values: 0, 25, 50, 75, and 100.\n",
    "Note: you don't have to use Numpy in this question.\n",
    "\"\"\"\n",
    "\n",
    "f=np.where(d==d_min,0,np.where(d==d_mean,50,np.where(d==d_max,100,np.where((d>d_min)&(d<d_mean),25,75))))\n",
    "print(f)"
   ]
  },
  {
   "cell_type": "code",
   "execution_count": 40,
   "metadata": {},
   "outputs": [
    {
     "name": "stdout",
     "output_type": "stream",
     "text": [
      "[[[ 25  75  75   0  25]\n",
      "  [100  75  75  25  25]\n",
      "  [ 75  25  75  75  25]]\n",
      "\n",
      " [[ 75  25  25  25  75]\n",
      "  [ 75  75  25  25  75]\n",
      "  [ 75  75  75  25  75]]]\n"
     ]
    }
   ],
   "source": [
    "for x in range(2):\n",
    "     for y in range(3):\n",
    "            for z in range(5):\n",
    "                if d_min<d[x,y,z]<d_mean:\n",
    "                    f[x,y,z]=25\n",
    "\n",
    "                elif d_mean<d[x,y,z]<d_max:\n",
    "                    f[x,y,z]=75\n",
    "\n",
    "                elif d[x,y,z]==d_mean:\n",
    "                    f[x,y,z]=50\n",
    "\n",
    "                elif d[x,y,z]==d_min:\n",
    "                    f[x,y,z]=0\n",
    "\n",
    "                else:\n",
    "                    f[x,y,z]=100\n",
    "                    \n",
    "print(f)"
   ]
  },
  {
   "cell_type": "code",
   "execution_count": 41,
   "metadata": {},
   "outputs": [
    {
     "name": "stdout",
     "output_type": "stream",
     "text": [
      "[[[ 25  75  75   0  25]\n",
      "  [100  75  75  25  25]\n",
      "  [ 75  25  75  75  25]]\n",
      "\n",
      " [[ 75  25  25  25  75]\n",
      "  [ 75  75  25  25  75]\n",
      "  [ 75  75  75  25  75]]]\n"
     ]
    }
   ],
   "source": [
    "\"\"\"\n",
    "#17. Print d and f. Do you have your expected f?\n",
    "For instance, if your d is:\n",
    "array([[[1.85836099, 1.67064465, 1.62576044, 1.40243961, 1.88454931],\n",
    "        [1.75354326, 1.69403643, 1.36729252, 1.61415071, 1.12104981],\n",
    "        [1.72201435, 1.1862918 , 1.87078449, 1.7726778 , 1.88180042]],\n",
    "\n",
    "       [[1.44747908, 1.31673383, 1.02000951, 1.52218947, 1.97066381],\n",
    "        [1.79129243, 1.74983003, 1.96028037, 1.85166831, 1.65450881],\n",
    "        [1.18068344, 1.9587381 , 1.00656599, 1.93402165, 1.73514584]]])\n",
    "\n",
    "Your f should be:\n",
    "array([[[ 75.,  75.,  75.,  25.,  75.],\n",
    "        [ 75.,  75.,  25.,  25.,  25.],\n",
    "        [ 75.,  25.,  75.,  75.,  75.]],\n",
    "\n",
    "       [[ 25.,  25.,  25.,  25., 100.],\n",
    "        [ 75.,  75.,  75.,  75.,  75.],\n",
    "        [ 25.,  75.,   0.,  75.,  75.]]])\n",
    "\"\"\"\n",
    "\n",
    "print(f)"
   ]
  },
  {
   "cell_type": "code",
   "execution_count": 44,
   "metadata": {},
   "outputs": [
    {
     "name": "stdout",
     "output_type": "stream",
     "text": [
      "[[['B' 'D' 'D' 'A' 'B']\n",
      "  ['E' 'D' 'D' 'B' 'B']\n",
      "  ['D' 'B' 'D' 'D' 'B']]\n",
      "\n",
      " [['D' 'B' 'B' 'B' 'D']\n",
      "  ['D' 'D' 'B' 'B' 'D']\n",
      "  ['D' 'D' 'D' 'B' 'D']]]\n"
     ]
    }
   ],
   "source": [
    "\"\"\"\n",
    "#18. Bonus question: instead of using numbers (i.e. 0, 25, 50, 75, and 100), how to use string values \n",
    "(\"A\", \"B\", \"C\", \"D\", and \"E\") to label the array elements? You are expecting the result to be:\n",
    "array([[[ 'D',  'D',  'D',  'B',  'D'],\n",
    "        [ 'D',  'D',  'B',  'B',  'B'],\n",
    "        [ 'D',  'B',  'D',  'D',  'D']],\n",
    "\n",
    "       [[ 'B',  'B',  'B',  'B',  'E'],\n",
    "        [ 'D',  'D',  'D',  'D',  'D'],\n",
    "        [ 'B',  'D',   'A',  'D', 'D']]])\n",
    "Again, you don't need Numpy in this question.\n",
    "\"\"\"\n",
    "\n",
    "g = np.empty([2,3,5],dtype=\"str\")\n",
    "\n",
    "for x in range(2):\n",
    "     for y in range(3):\n",
    "            for z in range(5):\n",
    "                if d_min<d[x,y,z]<d_mean:\n",
    "                    g[x,y,z]=\"B\"\n",
    "\n",
    "                elif d_mean<d[x,y,z]<d_max:\n",
    "                    g[x,y,z]=\"D\"\n",
    "\n",
    "                elif d[x,y,z]==d_mean:\n",
    "                    g[x,y,z]=\"C\"\n",
    "\n",
    "                elif d[x,y,z]==d_min:\n",
    "                    g[x,y,z]=\"A\"\n",
    "\n",
    "                else:\n",
    "                    g[x,y,z]=\"E\"\n",
    "                    \n",
    "print(g)"
   ]
  },
  {
   "cell_type": "code",
   "execution_count": null,
   "metadata": {},
   "outputs": [],
   "source": []
  }
 ],
 "metadata": {
  "kernelspec": {
   "display_name": "Python 3",
   "language": "python",
   "name": "python3"
  },
  "language_info": {
   "codemirror_mode": {
    "name": "ipython",
    "version": 3
   },
   "file_extension": ".py",
   "mimetype": "text/x-python",
   "name": "python",
   "nbconvert_exporter": "python",
   "pygments_lexer": "ipython3",
   "version": "3.8.6"
  }
 },
 "nbformat": 4,
 "nbformat_minor": 4
}
